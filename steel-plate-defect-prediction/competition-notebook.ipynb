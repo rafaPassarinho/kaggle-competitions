{
 "cells": [
  {
   "cell_type": "markdown",
   "metadata": {},
   "source": [
    "# Steel Plate Defect prediction\n"
   ]
  },
  {
   "cell_type": "markdown",
   "metadata": {},
   "source": [
    "## Preparing train set"
   ]
  },
  {
   "cell_type": "code",
   "execution_count": 27,
   "metadata": {},
   "outputs": [],
   "source": [
    "import pandas as pd\n",
    "import numpy as np\n",
    "from sklearn import model_selection\n",
    "path = 'input/'\n",
    "\n",
    "TARGET = ['Pastry', 'Z_Scratch', 'K_Scatch', 'Stains', 'Dirtiness', 'Bumps', 'Other_Faults']\n",
    "\n",
    "if __name__ == \"__main__\":\n",
    "    # Training data is in the \"train.csv\" and \"faults.csv\" files\n",
    "    train_data = pd.read_csv(path + 'train.csv')\n",
    "    original_data = pd.read_csv(path + 'faulty-steel-plates/faults.csv')\n",
    "    train_data.drop('id', axis=1, inplace=True)\n",
    "    train_data = pd.concat([train_data, original_data], axis=0)\n",
    "\n",
    "    # drop mult label data points\n",
    "    train_data = train_data[train_data[TARGET].sum(axis=1) <= 1]\n",
    "    train_data['Outside_Global_Index'] = np.where(train_data['Outside_Global_Index']==0.7, 0.5, train_data['Outside_Global_Index'])\n",
    "\n",
    "    train_data['target'] = np.argmax(train_data[TARGET].values, axis=1) + 1\n",
    "    train_data.loc[train_data[TARGET].sum(axis=1) == 0, 'target'] = 0\n",
    "    train_data.drop(TARGET, axis=1, inplace=True)\n",
    "\n",
    "    # we create a new column called kfold and fill it with -1\n",
    "    train_data['kfold'] = -1\n",
    "\n",
    "    # the next step is to randomize the rows of the data\n",
    "    train_data = train_data.sample(frac=1).reset_index(drop=True)\n",
    "\n",
    "    # initiate the kfold class from model_selection module\n",
    "    kf = model_selection.StratifiedKFold(n_splits=5)\n",
    "\n",
    "    # fill the new kfold column\n",
    "    for f, (t_, v_) in enumerate(kf.split(X=train_data, y=train_data['target'].values)):\n",
    "        train_data.loc[v_, 'kfold'] = f\n",
    "    \n",
    "    # save the new csv with kfold column\n",
    "    train_data.to_csv(path + 'train_folds.csv', index=False)\n",
    "\n",
    "\n",
    "    \n",
    "\n",
    "    "
   ]
  },
  {
   "cell_type": "markdown",
   "metadata": {},
   "source": [
    "## Classification of Steel Plate Defect dataset with tree-base models (baseline)\n",
    "\n",
    "* [Extreme Gradient Booster (Random Forest)](https://xgboost.readthedocs.io/en/stable/python/python_api.html)\n",
    "\n",
    "* [LightGBM](https://lightgbm.readthedocs.io/en/latest/Python-Intro.html)\n",
    "\n",
    "* [CatBoost](https://catboost.ai/)"
   ]
  },
  {
   "cell_type": "markdown",
   "metadata": {},
   "source": [
    "### Read dataset and check the distribution of target variables"
   ]
  },
  {
   "cell_type": "code",
   "execution_count": 1,
   "metadata": {},
   "outputs": [
    {
     "name": "stdout",
     "output_type": "stream",
     "text": [
      "<class 'pandas.core.frame.DataFrame'>\n",
      "RangeIndex: 21139 entries, 0 to 21138\n",
      "Data columns (total 29 columns):\n",
      " #   Column                 Non-Null Count  Dtype  \n",
      "---  ------                 --------------  -----  \n",
      " 0   X_Minimum              21139 non-null  int64  \n",
      " 1   X_Maximum              21139 non-null  int64  \n",
      " 2   Y_Minimum              21139 non-null  int64  \n",
      " 3   Y_Maximum              21139 non-null  int64  \n",
      " 4   Pixels_Areas           21139 non-null  int64  \n",
      " 5   X_Perimeter            21139 non-null  int64  \n",
      " 6   Y_Perimeter            21139 non-null  int64  \n",
      " 7   Sum_of_Luminosity      21139 non-null  int64  \n",
      " 8   Minimum_of_Luminosity  21139 non-null  int64  \n",
      " 9   Maximum_of_Luminosity  21139 non-null  int64  \n",
      " 10  Length_of_Conveyer     21139 non-null  int64  \n",
      " 11  TypeOfSteel_A300       21139 non-null  int64  \n",
      " 12  TypeOfSteel_A400       21139 non-null  int64  \n",
      " 13  Steel_Plate_Thickness  21139 non-null  int64  \n",
      " 14  Edges_Index            21139 non-null  float64\n",
      " 15  Empty_Index            21139 non-null  float64\n",
      " 16  Square_Index           21139 non-null  float64\n",
      " 17  Outside_X_Index        21139 non-null  float64\n",
      " 18  Edges_X_Index          21139 non-null  float64\n",
      " 19  Edges_Y_Index          21139 non-null  float64\n",
      " 20  Outside_Global_Index   21139 non-null  float64\n",
      " 21  LogOfAreas             21139 non-null  float64\n",
      " 22  Log_X_Index            21139 non-null  float64\n",
      " 23  Log_Y_Index            21139 non-null  float64\n",
      " 24  Orientation_Index      21139 non-null  float64\n",
      " 25  Luminosity_Index       21139 non-null  float64\n",
      " 26  SigmoidOfAreas         21139 non-null  float64\n",
      " 27  target                 21139 non-null  int64  \n",
      " 28  kfold                  21139 non-null  int64  \n",
      "dtypes: float64(13), int64(16)\n",
      "memory usage: 4.7 MB\n"
     ]
    }
   ],
   "source": [
    "import pandas as pd\n",
    "\n",
    "df = pd.read_csv('input/train_folds.csv')\n",
    "df.info()"
   ]
  },
  {
   "cell_type": "code",
   "execution_count": 2,
   "metadata": {},
   "outputs": [
    {
     "data": {
      "text/plain": [
       "target\n",
       "7    7213\n",
       "6    5163\n",
       "3    3802\n",
       "1    1623\n",
       "2    1340\n",
       "0     818\n",
       "4     640\n",
       "5     540\n",
       "Name: count, dtype: int64"
      ]
     },
     "execution_count": 2,
     "metadata": {},
     "output_type": "execute_result"
    }
   ],
   "source": [
    "df['target'].value_counts()"
   ]
  },
  {
   "cell_type": "code",
   "execution_count": 3,
   "metadata": {},
   "outputs": [],
   "source": [
    "def model_assess(model, title='Default'):\n",
    "    model.fit(X_train, y_train)\n",
    "    # Predict class probabilities\n",
    "    y_proba = model.predict_proba(X_test)\n",
    "\n",
    "    # Compute the AUC for each class and take the average\n",
    "    average_auc = roc_auc_score(y_test, y_proba, multi_class='ovr', average='macro')\n",
    "    print(f'{title} Average AUC: {average_auc}')\n",
    "    return average_auc\n",
    "\n",
    "    \n"
   ]
  },
  {
   "cell_type": "code",
   "execution_count": 7,
   "metadata": {},
   "outputs": [
    {
     "name": "stdout",
     "output_type": "stream",
     "text": [
      "Processing fold 0\n",
      "XGBoost Average AUC: 0.8586832118510552\n",
      "Execution time for XGBoost: 6.90 seconds\n",
      "CatBoost Average AUC: 0.8649960107272939\n",
      "Execution time for CatBoost: 17.16 seconds\n",
      "LightGBM Average AUC: 0.8598581668227699\n",
      "Execution time for LightGBM: 7.85 seconds\n",
      "--------------------------------------------------\n",
      "Processing fold 1\n",
      "XGBoost Average AUC: 0.8546527862446336\n",
      "Execution time for XGBoost: 4.48 seconds\n",
      "CatBoost Average AUC: 0.8625416418390057\n",
      "Execution time for CatBoost: 14.44 seconds\n",
      "LightGBM Average AUC: 0.8581122899913534\n",
      "Execution time for LightGBM: 6.95 seconds\n",
      "--------------------------------------------------\n",
      "Processing fold 2\n",
      "XGBoost Average AUC: 0.8522447318088513\n",
      "Execution time for XGBoost: 3.20 seconds\n",
      "CatBoost Average AUC: 0.8533285237635493\n",
      "Execution time for CatBoost: 11.50 seconds\n",
      "LightGBM Average AUC: 0.8604471048523936\n",
      "Execution time for LightGBM: 8.60 seconds\n",
      "--------------------------------------------------\n",
      "Processing fold 3\n",
      "XGBoost Average AUC: 0.8551070924569042\n",
      "Execution time for XGBoost: 4.63 seconds\n",
      "CatBoost Average AUC: 0.8588833059052113\n",
      "Execution time for CatBoost: 11.80 seconds\n",
      "LightGBM Average AUC: 0.8579864946885611\n",
      "Execution time for LightGBM: 7.33 seconds\n",
      "--------------------------------------------------\n",
      "Processing fold 4\n",
      "XGBoost Average AUC: 0.8514926805419804\n",
      "Execution time for XGBoost: 3.35 seconds\n",
      "CatBoost Average AUC: 0.8581856825518019\n",
      "Execution time for CatBoost: 10.92 seconds\n",
      "LightGBM Average AUC: 0.8550979933046353\n",
      "Execution time for LightGBM: 7.02 seconds\n",
      "--------------------------------------------------\n",
      "Average XGBoost AUC: 0.8544361005806849\n",
      "Average CatBoost AUC: 0.8595870329573725\n",
      "Average LightGBM AUC: 0.8583004099319427\n"
     ]
    }
   ],
   "source": [
    "import pandas as pd\n",
    "import time\n",
    "import lightgbm as lgb\n",
    "import numpy as np\n",
    "from xgboost import XGBClassifier\n",
    "from sklearn.metrics import roc_auc_score\n",
    "from xgboost import XGBClassifier\n",
    "from catboost import CatBoostClassifier\n",
    "\n",
    "SEED = 42\n",
    "xgb_results = []\n",
    "cat_results = []\n",
    "lgbm_results = []\n",
    "\n",
    "for fold in range(5):\n",
    "    print(f'Processing fold {fold}')\n",
    "    df = pd.read_csv('input/train_folds.csv')\n",
    "    \n",
    "    df_train = df[df.kfold != fold].reset_index(drop=True)\n",
    "    df_test = df[df.kfold == fold].reset_index(drop=True)\n",
    "\n",
    "    X_train = df_train.drop(['target', 'kfold'], axis=1)\n",
    "    y_train = df_train['target']\n",
    "\n",
    "    X_test = df_test.drop(['target', 'kfold'], axis=1)\n",
    "    y_test = df_test['target']\n",
    "\n",
    "    # Extreme Gradient Boosting Classifier\n",
    "    start_time = time.time()\n",
    "    xgb = XGBClassifier(random_state=SEED, device='gpu')\n",
    "    xgb_auc = model_assess(xgb, 'XGBoost')\n",
    "    end_time = time.time()\n",
    "    execution_time = end_time - start_time\n",
    "    xgb_results.append(xgb_auc)\n",
    "    print(f'Execution time for XGBoost: {execution_time:.2f} seconds')\n",
    "\n",
    "    # CatBoost Classifier\n",
    "    start_time = time.time()\n",
    "    cat = CatBoostClassifier(random_state=SEED, verbose=False, task_type='GPU', allow_writing_files=False)\n",
    "    cat_auc = model_assess(cat, 'CatBoost')\n",
    "    end_time = time.time()\n",
    "    execution_time = end_time - start_time\n",
    "    cat_results.append(cat_auc)\n",
    "    print(f'Execution time for CatBoost: {execution_time:.2f} seconds')\n",
    "\n",
    "    # LightGBM Classifier\n",
    "    start_time = time.time()\n",
    "    lgbm = lgb.LGBMClassifier(random_state=SEED, device='gpu', verbose=0)\n",
    "    lgbm_auc = model_assess(lgbm, 'LightGBM')\n",
    "    end_time = time.time()\n",
    "    execution_time = end_time - start_time\n",
    "    lgbm_results.append(lgbm_auc)\n",
    "    print(f'Execution time for LightGBM: {execution_time:.2f} seconds')\n",
    "\n",
    "    print('-'*50)\n",
    "\n",
    "print(f'Average XGBoost AUC: {np.mean(xgb_results)}')\n",
    "print(f'Average CatBoost AUC: {np.mean(cat_results)}')\n",
    "print(f'Average LightGBM AUC: {np.mean(lgbm_results)}')\n",
    "    "
   ]
  },
  {
   "cell_type": "markdown",
   "metadata": {},
   "source": [
    "Analysing the cross-fold validation, LightGBM and CatBoost had the best overall results."
   ]
  },
  {
   "cell_type": "markdown",
   "metadata": {},
   "source": [
    "## Applying All Relevant Features Selections (([ARFS](https://github.com/ThomasBury/arfs))) to the dataset"
   ]
  },
  {
   "cell_type": "markdown",
   "metadata": {},
   "source": [
    "### GrootCV"
   ]
  },
  {
   "cell_type": "code",
   "execution_count": 9,
   "metadata": {},
   "outputs": [
    {
     "name": "stderr",
     "output_type": "stream",
     "text": [
      "\n",
      "\u001b[A\n",
      "\u001b[A\n",
      "\u001b[A\n",
      "\u001b[A\n",
      "\u001b[A\n",
      "\u001b[A\n",
      "\u001b[A\n",
      "\u001b[A\n",
      "\u001b[A\n",
      "\u001b[A\n",
      "\u001b[A\n",
      "\u001b[A\n",
      "\u001b[A\n",
      "\u001b[A\n",
      "\u001b[A\n",
      "\u001b[A\n",
      "\u001b[A\n",
      "\u001b[A\n",
      "\u001b[A\n",
      "\u001b[A\n",
      "\u001b[A\n",
      "\u001b[A\n",
      "\u001b[A\n",
      "\u001b[A\n",
      "\u001b[A\n",
      "Repeated k-fold: 100%|██████████| 25/25 [11:57<00:00, 28.69s/it]\n"
     ]
    },
    {
     "name": "stdout",
     "output_type": "stream",
     "text": [
      "The selected features: ['Outside_X_Index' 'Edges_Y_Index']\n",
      "The agnostic ranking: [1 1 1 1 1 1 1 1 1 1 1 1 1 1 1 1 1 2 1 2 1 1 1 1 1 1 1]\n",
      "The naive ranking: ['Edges_Y_Index', 'Outside_X_Index', 'LogOfAreas', 'Length_of_Conveyer', 'Luminosity_Index', 'Empty_Index', 'Orientation_Index', 'Edges_Index', 'Log_X_Index', 'ShadowVar16', 'ShadowVar17', 'Edges_X_Index', 'ShadowVar2', 'Minimum_of_Luminosity', 'ShadowVar15', 'ShadowVar18', 'ShadowVar1', 'ShadowVar19', 'ShadowVar10', 'Log_Y_Index', 'ShadowVar11', 'Pixels_Areas', 'Maximum_of_Luminosity', 'ShadowVar14', 'ShadowVar12', 'ShadowVar13', 'Outside_Global_Index']\n"
     ]
    },
    {
     "data": {
      "image/png": "[encoded data removed]",
      "text/plain": [
       "<Figure size 1600x540 with 1 Axes>"
      ]
     },
     "metadata": {},
     "output_type": "display_data"
    }
   ],
   "source": [
    "import pandas as pd\n",
    "import lightgbm as lgb\n",
    "import arfs.feature_selection.allrelevant as arfsgroot\n",
    "import matplotlib as mpl\n",
    "import matplotlib.pyplot as plt\n",
    "import json\n",
    "\n",
    "from arfs.benchmark import highlight_tick\n",
    "\n",
    "%matplotlib inline\n",
    "\n",
    "df = pd.read_csv('input/train_folds.csv')\n",
    "X = df.drop(['target', 'kfold'], axis=1)\n",
    "y = df['target']\n",
    "\n",
    "model = lgb.LGBMClassifier(random_state=42, device='gpu', verbose=0)\n",
    "\n",
    "grootcv_feat_selector = arfsgroot.GrootCV(objective='multiclass', cutoff=1, n_folds=5, n_iter=5, silent=True, fastshap=False, n_jobs=0, lgbm_params={'device': 'gpu', 'gpu_device_id': 1})\n",
    "grootcv_feat_selector.fit(X, y, sample_weight=None)\n",
    "\n",
    "print(f\"The selected features: {grootcv_feat_selector.get_feature_names_out()}\")\n",
    "print(f\"The agnostic ranking: {grootcv_feat_selector.ranking_}\")\n",
    "print(f\"The naive ranking: {grootcv_feat_selector.ranking_absolutes_}\")\n",
    "fig = grootcv_feat_selector.plot_importance(n_feat_per_inch=5)\n",
    "\n",
    "# highlight synthetic random variable\n",
    "fig = highlight_tick(figure=fig, str_match=\"random\")\n",
    "fig = highlight_tick(figure=fig, str_match=\"genuine\", color=\"green\")\n",
    "plt.show()\n",
    "\n",
    "grootcv_selected_features = grootcv_feat_selector.get_feature_names_out()\n",
    "\n",
    "json_file_path = 'groot_cv_selected_features.json'\n",
    "with open(json_file_path, 'w') as f:\n",
    "    json.dump(grootcv_selected_features.tolist(), f)"
   ]
  },
  {
   "cell_type": "code",
   "execution_count": 20,
   "metadata": {},
   "outputs": [
    {
     "name": "stdout",
     "output_type": "stream",
     "text": [
      "selected features from GrootCV: ['Outside_X_Index', 'Edges_Y_Index']\n",
      "Processing fold 0\n",
      "XGBoost Average AUC: 0.7411524110782949\n",
      "Execution time for XGBoost: 3.48 seconds\n",
      "CatBoost Average AUC: 0.7518728193846091\n",
      "Execution time for CatBoost: 14.11 seconds\n",
      "LightGBM Average AUC: 0.7450310543399359\n",
      "Execution time for LightGBM: 6.99 seconds\n",
      "--------------------------------------------------\n",
      "Processing fold 1\n",
      "XGBoost Average AUC: 0.7398853804452838\n",
      "Execution time for XGBoost: 3.10 seconds\n",
      "CatBoost Average AUC: 0.7513501938649909\n",
      "Execution time for CatBoost: 9.82 seconds\n",
      "LightGBM Average AUC: 0.7424953294433683\n",
      "Execution time for LightGBM: 6.67 seconds\n",
      "--------------------------------------------------\n",
      "Processing fold 2\n",
      "XGBoost Average AUC: 0.7513178336479928\n",
      "Execution time for XGBoost: 3.99 seconds\n",
      "CatBoost Average AUC: 0.7540789380917885\n",
      "Execution time for CatBoost: 12.77 seconds\n",
      "LightGBM Average AUC: 0.7521410635198145\n",
      "Execution time for LightGBM: 7.14 seconds\n",
      "--------------------------------------------------\n",
      "Processing fold 3\n",
      "XGBoost Average AUC: 0.7396085452338488\n",
      "Execution time for XGBoost: 2.97 seconds\n",
      "CatBoost Average AUC: 0.7480614309040051\n",
      "Execution time for CatBoost: 9.33 seconds\n",
      "LightGBM Average AUC: 0.7423319523849747\n",
      "Execution time for LightGBM: 7.11 seconds\n",
      "--------------------------------------------------\n",
      "Processing fold 4\n",
      "XGBoost Average AUC: 0.7395120682684196\n",
      "Execution time for XGBoost: 2.68 seconds\n",
      "CatBoost Average AUC: 0.7474873294850117\n",
      "Execution time for CatBoost: 9.96 seconds\n",
      "LightGBM Average AUC: 0.7457624748711975\n",
      "Execution time for LightGBM: 5.95 seconds\n",
      "--------------------------------------------------\n",
      "Average XGBoost AUC: 0.742295247734768\n",
      "Average CatBoost AUC: 0.7505701423460811\n",
      "Average LightGBM AUC: 0.7455523749118582\n"
     ]
    }
   ],
   "source": [
    "import pandas as pd\n",
    "import time\n",
    "import lightgbm as lgb\n",
    "import numpy as np\n",
    "import json\n",
    "from xgboost import XGBClassifier\n",
    "from sklearn.metrics import roc_auc_score\n",
    "from xgboost import XGBClassifier\n",
    "from catboost import CatBoostClassifier\n",
    "\n",
    "SEED = 42\n",
    "xgb_results = []\n",
    "cat_results = []\n",
    "lgbm_results = []\n",
    "\n",
    "json_file_path = 'groot_cv_selected_features.json'\n",
    "\n",
    "# Load the selected features from the JSON file\n",
    "with open(json_file_path, 'r') as json_file:\n",
    "    selected_features = json.load(json_file)\n",
    "\n",
    "print(f'selected features from GrootCV: {selected_features}')\n",
    "for fold in range(5):\n",
    "    print(f'Processing fold {fold}')\n",
    "    df = pd.read_csv('input/train_folds.csv')\n",
    "    \n",
    "    df_train = df[df.kfold != fold].reset_index(drop=True)\n",
    "    df_test = df[df.kfold == fold].reset_index(drop=True)\n",
    "\n",
    "    X_train = df_train[selected_features]\n",
    "    y_train = df_train['target']\n",
    "\n",
    "    X_test = df_test[selected_features]\n",
    "    y_test = df_test['target']\n",
    "\n",
    "    # Extreme Gradient Boosting Classifier\n",
    "    start_time = time.time()\n",
    "    xgb = XGBClassifier(random_state=SEED, device='gpu')\n",
    "    xgb_auc = model_assess(xgb, 'XGBoost')\n",
    "    end_time = time.time()\n",
    "    execution_time = end_time - start_time\n",
    "    xgb_results.append(xgb_auc)\n",
    "    print(f'Execution time for XGBoost: {execution_time:.2f} seconds')\n",
    "\n",
    "    # CatBoost Classifier\n",
    "    start_time = time.time()\n",
    "    cat = CatBoostClassifier(random_state=SEED, verbose=False, task_type='GPU', allow_writing_files=False)\n",
    "    cat_auc = model_assess(cat, 'CatBoost')\n",
    "    end_time = time.time()\n",
    "    execution_time = end_time - start_time\n",
    "    cat_results.append(cat_auc)\n",
    "    print(f'Execution time for CatBoost: {execution_time:.2f} seconds')\n",
    "\n",
    "    # LightGBM Classifier\n",
    "    start_time = time.time()\n",
    "    lgbm = lgb.LGBMClassifier(random_state=SEED, device='gpu', verbose=0)\n",
    "    lgbm_auc = model_assess(lgbm, 'LightGBM')\n",
    "    end_time = time.time()\n",
    "    execution_time = end_time - start_time\n",
    "    lgbm_results.append(lgbm_auc)\n",
    "    print(f'Execution time for LightGBM: {execution_time:.2f} seconds')\n",
    "\n",
    "    print('-'*50)\n",
    "\n",
    "print(f'Average XGBoost AUC: {np.mean(xgb_results)}')\n",
    "print(f'Average CatBoost AUC: {np.mean(cat_results)}')\n",
    "print(f'Average LightGBM AUC: {np.mean(lgbm_results)}')"
   ]
  },
  {
   "cell_type": "markdown",
   "metadata": {},
   "source": [
    "### Leshy"
   ]
  },
  {
   "cell_type": "code",
   "execution_count": 8,
   "metadata": {},
   "outputs": [
    {
     "name": "stderr",
     "output_type": "stream",
     "text": []
    },
    {
     "ename": "ValueError",
     "evalue": "shape mismatch: value array of shape (27,8) could not be broadcast to indexing result of shape (27,)",
     "output_type": "error",
     "traceback": [
      "\u001b[1;31m---------------------------------------------------------------------------\u001b[0m",
      "\u001b[1;31mValueError\u001b[0m                                Traceback (most recent call last)",
      "Cell \u001b[1;32mIn[8], line 16\u001b[0m\n\u001b[0;32m     14\u001b[0m model \u001b[38;5;241m=\u001b[39m XGBClassifier(random_state\u001b[38;5;241m=\u001b[39mSEED, device\u001b[38;5;241m=\u001b[39m\u001b[38;5;124m'\u001b[39m\u001b[38;5;124mgpu\u001b[39m\u001b[38;5;124m'\u001b[39m)\n\u001b[0;32m     15\u001b[0m feat_selector \u001b[38;5;241m=\u001b[39m arfsgroot\u001b[38;5;241m.\u001b[39mLeshy(model, verbose\u001b[38;5;241m=\u001b[39m\u001b[38;5;241m1\u001b[39m)\n\u001b[1;32m---> 16\u001b[0m \u001b[43mfeat_selector\u001b[49m\u001b[38;5;241;43m.\u001b[39;49m\u001b[43mfit\u001b[49m\u001b[43m(\u001b[49m\u001b[43mX\u001b[49m\u001b[43m,\u001b[49m\u001b[43m \u001b[49m\u001b[43my\u001b[49m\u001b[43m,\u001b[49m\u001b[43m \u001b[49m\u001b[43msample_weight\u001b[49m\u001b[38;5;241;43m=\u001b[39;49m\u001b[38;5;28;43;01mNone\u001b[39;49;00m\u001b[43m)\u001b[49m\n\u001b[0;32m     17\u001b[0m \u001b[38;5;28mprint\u001b[39m(\u001b[38;5;124mf\u001b[39m\u001b[38;5;124m'\u001b[39m\u001b[38;5;124mThe selected features are: \u001b[39m\u001b[38;5;132;01m{\u001b[39;00mfeat_selector\u001b[38;5;241m.\u001b[39mselected_features_\u001b[38;5;132;01m}\u001b[39;00m\u001b[38;5;124m, \u001b[39m\u001b[38;5;132;01m{\u001b[39;00m\u001b[38;5;28mtype\u001b[39m(feat_selector\u001b[38;5;241m.\u001b[39mselected_features_)\u001b[38;5;132;01m}\u001b[39;00m\u001b[38;5;124m'\u001b[39m)\n\u001b[0;32m     18\u001b[0m \u001b[38;5;28mprint\u001b[39m(\u001b[38;5;124mf\u001b[39m\u001b[38;5;124m'\u001b[39m\u001b[38;5;124mThe agnostic ranking: \u001b[39m\u001b[38;5;132;01m{\u001b[39;00mfeat_selector\u001b[38;5;241m.\u001b[39mranking_\u001b[38;5;132;01m}\u001b[39;00m\u001b[38;5;124m, \u001b[39m\u001b[38;5;132;01m{\u001b[39;00m\u001b[38;5;28mtype\u001b[39m(feat_selector\u001b[38;5;241m.\u001b[39mranking_)\u001b[38;5;132;01m}\u001b[39;00m\u001b[38;5;124m'\u001b[39m)\n",
      "File \u001b[1;32mc:\\Users\\Rafael\\miniconda3\\Lib\\site-packages\\arfs\\feature_selection\\allrelevant.py:330\u001b[0m, in \u001b[0;36mLeshy.fit\u001b[1;34m(self, X, y, sample_weight)\u001b[0m\n\u001b[0;32m    327\u001b[0m     \u001b[38;5;28;01mraise\u001b[39;00m \u001b[38;5;167;01mTypeError\u001b[39;00m(\u001b[38;5;124m\"\u001b[39m\u001b[38;5;124mX is not a dataframe\u001b[39m\u001b[38;5;124m\"\u001b[39m)\n\u001b[0;32m    329\u001b[0m \u001b[38;5;28mself\u001b[39m\u001b[38;5;241m.\u001b[39mimp_real_hist \u001b[38;5;241m=\u001b[39m np\u001b[38;5;241m.\u001b[39mempty((\u001b[38;5;241m0\u001b[39m, X\u001b[38;5;241m.\u001b[39mshape[\u001b[38;5;241m1\u001b[39m]), \u001b[38;5;28mfloat\u001b[39m)\n\u001b[1;32m--> 330\u001b[0m \u001b[38;5;28;43mself\u001b[39;49m\u001b[38;5;241;43m.\u001b[39;49m\u001b[43m_fit\u001b[49m\u001b[43m(\u001b[49m\u001b[43mX\u001b[49m\u001b[43m,\u001b[49m\u001b[43m \u001b[49m\u001b[43my\u001b[49m\u001b[43m,\u001b[49m\u001b[43m \u001b[49m\u001b[43msample_weight\u001b[49m\u001b[38;5;241;43m=\u001b[39;49m\u001b[43msample_weight\u001b[49m\u001b[43m)\u001b[49m\n\u001b[0;32m    331\u001b[0m \u001b[38;5;28mself\u001b[39m\u001b[38;5;241m.\u001b[39mselected_features_ \u001b[38;5;241m=\u001b[39m \u001b[38;5;28mself\u001b[39m\u001b[38;5;241m.\u001b[39mfeature_names_in_[\u001b[38;5;28mself\u001b[39m\u001b[38;5;241m.\u001b[39msupport_]\n\u001b[0;32m    332\u001b[0m \u001b[38;5;28mself\u001b[39m\u001b[38;5;241m.\u001b[39mnot_selected_features_ \u001b[38;5;241m=\u001b[39m \u001b[38;5;28mself\u001b[39m\u001b[38;5;241m.\u001b[39mfeature_names_in_[\u001b[38;5;241m~\u001b[39m\u001b[38;5;28mself\u001b[39m\u001b[38;5;241m.\u001b[39msupport_]\n",
      "File \u001b[1;32mc:\\Users\\Rafael\\miniconda3\\Lib\\site-packages\\arfs\\feature_selection\\allrelevant.py:469\u001b[0m, in \u001b[0;36mLeshy._fit\u001b[1;34m(self, X_raw, y, sample_weight)\u001b[0m\n\u001b[0;32m    466\u001b[0m \u001b[38;5;28;01mif\u001b[39;00m \u001b[38;5;28mself\u001b[39m\u001b[38;5;241m.\u001b[39mn_estimators \u001b[38;5;241m!=\u001b[39m \u001b[38;5;124m\"\u001b[39m\u001b[38;5;124mauto\u001b[39m\u001b[38;5;124m\"\u001b[39m:\n\u001b[0;32m    467\u001b[0m     \u001b[38;5;28mself\u001b[39m\u001b[38;5;241m.\u001b[39mestimator\u001b[38;5;241m.\u001b[39mset_params(n_estimators\u001b[38;5;241m=\u001b[39m\u001b[38;5;28mself\u001b[39m\u001b[38;5;241m.\u001b[39mn_estimators)\n\u001b[1;32m--> 469\u001b[0m dec_reg, sha_max_history, imp_history, imp_sha_max \u001b[38;5;241m=\u001b[39m \u001b[38;5;28;43mself\u001b[39;49m\u001b[38;5;241;43m.\u001b[39;49m\u001b[43mselect_features\u001b[49m\u001b[43m(\u001b[49m\n\u001b[0;32m    470\u001b[0m \u001b[43m    \u001b[49m\u001b[43mX\u001b[49m\u001b[38;5;241;43m=\u001b[39;49m\u001b[43mX\u001b[49m\u001b[43m,\u001b[49m\u001b[43m \u001b[49m\u001b[43my\u001b[49m\u001b[38;5;241;43m=\u001b[39;49m\u001b[43my\u001b[49m\u001b[43m,\u001b[49m\u001b[43m \u001b[49m\u001b[43msample_weight\u001b[49m\u001b[38;5;241;43m=\u001b[39;49m\u001b[43msample_weight\u001b[49m\n\u001b[0;32m    471\u001b[0m \u001b[43m\u001b[49m\u001b[43m)\u001b[49m\n\u001b[0;32m    472\u001b[0m confirmed, tentative \u001b[38;5;241m=\u001b[39m _get_confirmed_and_tentative(dec_reg)\n\u001b[0;32m    473\u001b[0m tentative \u001b[38;5;241m=\u001b[39m _select_tentative(tentative, imp_history, sha_max_history)\n",
      "File \u001b[1;32mc:\\Users\\Rafael\\miniconda3\\Lib\\site-packages\\arfs\\feature_selection\\allrelevant.py:940\u001b[0m, in \u001b[0;36mLeshy.select_features\u001b[1;34m(self, X, y, sample_weight)\u001b[0m\n\u001b[0;32m    932\u001b[0m \u001b[38;5;28mself\u001b[39m\u001b[38;5;241m.\u001b[39m_update_tree_num(dec_reg)\n\u001b[0;32m    933\u001b[0m \u001b[38;5;28mself\u001b[39m\u001b[38;5;241m.\u001b[39m_update_estimator()\n\u001b[0;32m    934\u001b[0m (\n\u001b[0;32m    935\u001b[0m     dec_reg,\n\u001b[0;32m    936\u001b[0m     sha_max_history,\n\u001b[0;32m    937\u001b[0m     imp_history,\n\u001b[0;32m    938\u001b[0m     hit_reg,\n\u001b[0;32m    939\u001b[0m     imp_sha_max,\n\u001b[1;32m--> 940\u001b[0m ) \u001b[38;5;241m=\u001b[39m \u001b[38;5;28;43mself\u001b[39;49m\u001b[38;5;241;43m.\u001b[39;49m\u001b[43m_run_iteration\u001b[49m\u001b[43m(\u001b[49m\n\u001b[0;32m    941\u001b[0m \u001b[43m    \u001b[49m\u001b[43mX\u001b[49m\u001b[43m,\u001b[49m\n\u001b[0;32m    942\u001b[0m \u001b[43m    \u001b[49m\u001b[43my\u001b[49m\u001b[43m,\u001b[49m\n\u001b[0;32m    943\u001b[0m \u001b[43m    \u001b[49m\u001b[43msample_weight\u001b[49m\u001b[43m,\u001b[49m\n\u001b[0;32m    944\u001b[0m \u001b[43m    \u001b[49m\u001b[43mdec_reg\u001b[49m\u001b[43m,\u001b[49m\n\u001b[0;32m    945\u001b[0m \u001b[43m    \u001b[49m\u001b[43msha_max_history\u001b[49m\u001b[43m,\u001b[49m\n\u001b[0;32m    946\u001b[0m \u001b[43m    \u001b[49m\u001b[43mimp_history\u001b[49m\u001b[43m,\u001b[49m\n\u001b[0;32m    947\u001b[0m \u001b[43m    \u001b[49m\u001b[43mhit_reg\u001b[49m\u001b[43m,\u001b[49m\n\u001b[0;32m    948\u001b[0m \u001b[43m    \u001b[49m\u001b[43m_iter\u001b[49m\u001b[43m,\u001b[49m\n\u001b[0;32m    949\u001b[0m \u001b[43m\u001b[49m\u001b[43m)\u001b[49m\n\u001b[0;32m    950\u001b[0m _iter \u001b[38;5;241m+\u001b[39m\u001b[38;5;241m=\u001b[39m \u001b[38;5;241m1\u001b[39m\n\u001b[0;32m    951\u001b[0m pbar\u001b[38;5;241m.\u001b[39mupdate(\u001b[38;5;241m1\u001b[39m)\n",
      "File \u001b[1;32mc:\\Users\\Rafael\\miniconda3\\Lib\\site-packages\\arfs\\feature_selection\\allrelevant.py:891\u001b[0m, in \u001b[0;36mLeshy._run_iteration\u001b[1;34m(self, X, y, sample_weight, dec_reg, sha_max_history, imp_history, hit_reg, _iter)\u001b[0m\n\u001b[0;32m    842\u001b[0m \u001b[38;5;28;01mdef\u001b[39;00m \u001b[38;5;21m_run_iteration\u001b[39m(\n\u001b[0;32m    843\u001b[0m     \u001b[38;5;28mself\u001b[39m, X, y, sample_weight, dec_reg, sha_max_history, imp_history, hit_reg, _iter\n\u001b[0;32m    844\u001b[0m ):\n\u001b[0;32m    845\u001b[0m \u001b[38;5;250m    \u001b[39m\u001b[38;5;124;03m\"\"\"\u001b[39;00m\n\u001b[0;32m    846\u001b[0m \u001b[38;5;124;03m    Run an iteration of the Gradient Boosting algorithm.\u001b[39;00m\n\u001b[0;32m    847\u001b[0m \n\u001b[1;32m   (...)\u001b[0m\n\u001b[0;32m    889\u001b[0m \u001b[38;5;124;03m        The maximum shadow importance value for this iteration.\u001b[39;00m\n\u001b[0;32m    890\u001b[0m \u001b[38;5;124;03m    \"\"\"\u001b[39;00m\n\u001b[1;32m--> 891\u001b[0m     cur_imp \u001b[38;5;241m=\u001b[39m \u001b[38;5;28;43mself\u001b[39;49m\u001b[38;5;241;43m.\u001b[39;49m\u001b[43m_add_shadows_get_imps\u001b[49m\u001b[43m(\u001b[49m\u001b[43mX\u001b[49m\u001b[43m,\u001b[49m\u001b[43m \u001b[49m\u001b[43my\u001b[49m\u001b[43m,\u001b[49m\u001b[43m \u001b[49m\u001b[43msample_weight\u001b[49m\u001b[43m,\u001b[49m\u001b[43m \u001b[49m\u001b[43mdec_reg\u001b[49m\u001b[43m)\u001b[49m\n\u001b[0;32m    892\u001b[0m     imp_sha_max \u001b[38;5;241m=\u001b[39m np\u001b[38;5;241m.\u001b[39mpercentile(cur_imp[\u001b[38;5;241m1\u001b[39m], \u001b[38;5;28mself\u001b[39m\u001b[38;5;241m.\u001b[39mperc)\n\u001b[0;32m    893\u001b[0m     sha_max_history\u001b[38;5;241m.\u001b[39mappend(imp_sha_max)\n",
      "File \u001b[1;32mc:\\Users\\Rafael\\miniconda3\\Lib\\site-packages\\arfs\\feature_selection\\allrelevant.py:574\u001b[0m, in \u001b[0;36mLeshy._add_shadows_get_imps\u001b[1;34m(self, X, y, sample_weight, dec_reg)\u001b[0m\n\u001b[0;32m    572\u001b[0m imp_real \u001b[38;5;241m=\u001b[39m np\u001b[38;5;241m.\u001b[39mzeros(X\u001b[38;5;241m.\u001b[39mshape[\u001b[38;5;241m1\u001b[39m])\n\u001b[0;32m    573\u001b[0m imp_real[:] \u001b[38;5;241m=\u001b[39m np\u001b[38;5;241m.\u001b[39mnan\n\u001b[1;32m--> 574\u001b[0m \u001b[43mimp_real\u001b[49m\u001b[43m[\u001b[49m\u001b[43mx_cur_ind\u001b[49m\u001b[43m]\u001b[49m \u001b[38;5;241m=\u001b[39m imp[:x_cur_w]\n\u001b[0;32m    576\u001b[0m \u001b[38;5;28;01mreturn\u001b[39;00m imp_real, imp_sha\n",
      "\u001b[1;31mValueError\u001b[0m: shape mismatch: value array of shape (27,8) could not be broadcast to indexing result of shape (27,)"
     ]
    }
   ],
   "source": [
    "import lightgbm as lgb\n",
    "import pandas as pd\n",
    "import arfs.feature_selection as arfsfs\n",
    "import arfs.feature_selection.allrelevant as arfsgroot\n",
    "import matplotlib.pyplot as plt\n",
    "from xgboost import XGBClassifier\n",
    "from arfs.benchmark import highlight_tick, compare_varimp, sklearn_pimp_bench\n",
    "\n",
    "df = pd.read_csv('input/train_folds.csv')\n",
    "X = df.drop(['target', 'kfold'], axis=1)\n",
    "y = df['target']\n",
    "SEED = 42\n",
    "\n",
    "model = XGBClassifier(random_state=SEED, device='gpu')\n",
    "feat_selector = arfsgroot.Leshy(model, verbose=1)\n",
    "feat_selector.fit(X, y, sample_weight=None)\n",
    "print(f'The selected features are: {feat_selector.selected_features_}, {type(feat_selector.selected_features_)}')\n",
    "print(f'The agnostic ranking: {feat_selector.ranking_}, {type(feat_selector.ranking_)}')\n",
    "print(f'The naive ranking: {feat_selector.ranking_absolutes_}, {type(feat_selector.ranking_absolutes_)}')\n",
    "fig = feat_selector.plot_importance(n_feat_per_inch=5)\n",
    "\n",
    "# highlight synthetic random variable\n",
    "fig = highlight_tick(figure=fig, str_match=\"random\")\n",
    "fig = highlight_tick(figure=fig, str_match=\"genuine\", color=\"green\")\n",
    "plt.show()"
   ]
  },
  {
   "cell_type": "markdown",
   "metadata": {},
   "source": [
    "### BoostAGroota"
   ]
  },
  {
   "cell_type": "code",
   "execution_count": 3,
   "metadata": {},
   "outputs": [
    {
     "name": "stderr",
     "output_type": "stream",
     "text": []
    },
    {
     "name": "stdout",
     "output_type": "stream",
     "text": [
      "Only Sklearn tree based methods allowed\n",
      "Only Sklearn tree based methods allowed\n",
      "Only Sklearn tree based methods allowed\n",
      "Only Sklearn tree based methods allowed\n",
      "Only Sklearn tree based methods allowed\n",
      "Only Sklearn tree based methods allowed\n",
      "Only Sklearn tree based methods allowed\n",
      "Only Sklearn tree based methods allowed\n",
      "Only Sklearn tree based methods allowed\n"
     ]
    },
    {
     "name": "stderr",
     "output_type": "stream",
     "text": [
      "BoostaGRoota round:   0%|          | 0/10 [06:53<?, ?it/s]"
     ]
    },
    {
     "name": "stdout",
     "output_type": "stream",
     "text": [
      "Only Sklearn tree based methods allowed\n",
      "The selected features are: [], <class 'numpy.ndarray'>\n",
      "The agnostic ranking: [1 1 1 1 1 1 1 1 1 1 1 1 1 1 1 1 1 1 1 1 1 1 1 1 1 1 1], <class 'numpy.ndarray'>\n",
      "The naive ranking: ['X_Minimum', 'X_Maximum', 'Y_Minimum', 'Y_Maximum', 'Pixels_Areas', 'X_Perimeter', 'Y_Perimeter', 'Sum_of_Luminosity', 'Minimum_of_Luminosity', 'Maximum_of_Luminosity', 'Length_of_Conveyer', 'TypeOfSteel_A300', 'TypeOfSteel_A400', 'Steel_Plate_Thickness', 'Edges_Index', 'Empty_Index', 'Square_Index', 'Outside_X_Index', 'Edges_X_Index', 'Edges_Y_Index', 'Outside_Global_Index', 'LogOfAreas', 'Log_X_Index', 'Log_Y_Index', 'Orientation_Index', 'Luminosity_Index', 'SigmoidOfAreas'], <class 'list'>\n"
     ]
    },
    {
     "name": "stderr",
     "output_type": "stream",
     "text": [
      "\n",
      "c:\\Users\\Rafael\\miniconda3\\Lib\\site-packages\\arfs\\feature_selection\\allrelevant.py:1641: UserWarning: No feature selected - No data to plot\n",
      "  warnings.warn(NO_FEATURE_SELECTED_WARNINGS)\n"
     ]
    },
    {
     "ename": "AttributeError",
     "evalue": "'NoneType' object has no attribute 'gca'",
     "output_type": "error",
     "traceback": [
      "\u001b[1;31m---------------------------------------------------------------------------\u001b[0m",
      "\u001b[1;31mAttributeError\u001b[0m                            Traceback (most recent call last)",
      "Cell \u001b[1;32mIn[3], line 26\u001b[0m\n\u001b[0;32m     23\u001b[0m fig \u001b[38;5;241m=\u001b[39m feat_selector\u001b[38;5;241m.\u001b[39mplot_importance(n_feat_per_inch\u001b[38;5;241m=\u001b[39m\u001b[38;5;241m5\u001b[39m)\n\u001b[0;32m     25\u001b[0m \u001b[38;5;66;03m# highlight synthetic random variable\u001b[39;00m\n\u001b[1;32m---> 26\u001b[0m fig \u001b[38;5;241m=\u001b[39m \u001b[43mhighlight_tick\u001b[49m\u001b[43m(\u001b[49m\u001b[43mfigure\u001b[49m\u001b[38;5;241;43m=\u001b[39;49m\u001b[43mfig\u001b[49m\u001b[43m,\u001b[49m\u001b[43m \u001b[49m\u001b[43mstr_match\u001b[49m\u001b[38;5;241;43m=\u001b[39;49m\u001b[38;5;124;43m\"\u001b[39;49m\u001b[38;5;124;43mrandom\u001b[39;49m\u001b[38;5;124;43m\"\u001b[39;49m\u001b[43m)\u001b[49m\n\u001b[0;32m     27\u001b[0m fig \u001b[38;5;241m=\u001b[39m highlight_tick(figure\u001b[38;5;241m=\u001b[39mfig, str_match\u001b[38;5;241m=\u001b[39m\u001b[38;5;124m\"\u001b[39m\u001b[38;5;124mgenuine\u001b[39m\u001b[38;5;124m\"\u001b[39m, color\u001b[38;5;241m=\u001b[39m\u001b[38;5;124m\"\u001b[39m\u001b[38;5;124mgreen\u001b[39m\u001b[38;5;124m\"\u001b[39m)\n\u001b[0;32m     28\u001b[0m plt\u001b[38;5;241m.\u001b[39mshow()\n",
      "File \u001b[1;32mc:\\Users\\Rafael\\miniconda3\\Lib\\site-packages\\arfs\\benchmark.py:180\u001b[0m, in \u001b[0;36mhighlight_tick\u001b[1;34m(str_match, figure, color, axis)\u001b[0m\n\u001b[0;32m    155\u001b[0m \u001b[38;5;250m\u001b[39m\u001b[38;5;124;03m\"\"\"Highlight the x/y tick-labels if they contains a given string\u001b[39;00m\n\u001b[0;32m    156\u001b[0m \n\u001b[0;32m    157\u001b[0m \u001b[38;5;124;03mParameters\u001b[39;00m\n\u001b[1;32m   (...)\u001b[0m\n\u001b[0;32m    176\u001b[0m \u001b[38;5;124;03m    if axis is not 'x' or 'y'\u001b[39;00m\n\u001b[0;32m    177\u001b[0m \u001b[38;5;124;03m\"\"\"\u001b[39;00m\n\u001b[0;32m    179\u001b[0m \u001b[38;5;28;01mif\u001b[39;00m axis \u001b[38;5;241m==\u001b[39m \u001b[38;5;124m\"\u001b[39m\u001b[38;5;124my\u001b[39m\u001b[38;5;124m\"\u001b[39m:\n\u001b[1;32m--> 180\u001b[0m     labels \u001b[38;5;241m=\u001b[39m [item\u001b[38;5;241m.\u001b[39mget_text() \u001b[38;5;28;01mfor\u001b[39;00m item \u001b[38;5;129;01min\u001b[39;00m \u001b[43mfigure\u001b[49m\u001b[38;5;241;43m.\u001b[39;49m\u001b[43mgca\u001b[49m()\u001b[38;5;241m.\u001b[39mget_yticklabels()]\n\u001b[0;32m    181\u001b[0m     indices \u001b[38;5;241m=\u001b[39m [i \u001b[38;5;28;01mfor\u001b[39;00m i, s \u001b[38;5;129;01min\u001b[39;00m \u001b[38;5;28menumerate\u001b[39m(labels) \u001b[38;5;28;01mif\u001b[39;00m str_match \u001b[38;5;129;01min\u001b[39;00m s]\n\u001b[0;32m    182\u001b[0m     [figure\u001b[38;5;241m.\u001b[39mgca()\u001b[38;5;241m.\u001b[39mget_yticklabels()[idx]\u001b[38;5;241m.\u001b[39mset_color(color) \u001b[38;5;28;01mfor\u001b[39;00m idx \u001b[38;5;129;01min\u001b[39;00m indices]\n",
      "\u001b[1;31mAttributeError\u001b[0m: 'NoneType' object has no attribute 'gca'"
     ]
    }
   ],
   "source": [
    "import lightgbm as lgb\n",
    "import pandas as pd\n",
    "import arfs.feature_selection as arfsfs\n",
    "import arfs.feature_selection.allrelevant as arfsgroot\n",
    "import matplotlib.pyplot as plt\n",
    "from arfs.benchmark import highlight_tick, compare_varimp, sklearn_pimp_bench\n",
    "from sklearn.base import clone\n",
    "\n",
    "from xgboost import XGBClassifier\n",
    "\n",
    "df = pd.read_csv('input/train_folds.csv')\n",
    "\n",
    "X = df.drop(['target', 'kfold'], axis=1)\n",
    "y = df['target']\n",
    "\n",
    "model = XGBClassifier(random_state=42)\n",
    "\n",
    "feat_selector = arfsgroot.BoostAGroota(estimator=model, cutoff=1, max_rounds=10, delta=0.1)\n",
    "feat_selector.fit(X, y, sample_weight=None)\n",
    "print(f'The selected features are: {feat_selector.selected_features_}, {type(feat_selector.selected_features_)}')\n",
    "print(f'The agnostic ranking: {feat_selector.ranking_}, {type(feat_selector.ranking_)}')\n",
    "print(f'The naive ranking: {feat_selector.ranking_absolutes_}, {type(feat_selector.ranking_absolutes_)}')\n",
    "fig = feat_selector.plot_importance(n_feat_per_inch=5)\n",
    "\n",
    "# highlight synthetic random variable\n",
    "fig = highlight_tick(figure=fig, str_match=\"random\")\n",
    "fig = highlight_tick(figure=fig, str_match=\"genuine\", color=\"green\")\n",
    "plt.show()"
   ]
  }
 ],
 "metadata": {
  "kernelspec": {
   "display_name": "base",
   "language": "python",
   "name": "python3"
  },
  "language_info": {
   "codemirror_mode": {
    "name": "ipython",
    "version": 3
   },
   "file_extension": ".py",
   "mimetype": "text/x-python",
   "name": "python",
   "nbconvert_exporter": "python",
   "pygments_lexer": "ipython3",
   "version": "3.12.2"
  }
 },
 "nbformat": 4,
 "nbformat_minor": 2
}
