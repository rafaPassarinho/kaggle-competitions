{
 "cells": [
  {
   "cell_type": "markdown",
   "metadata": {},
   "source": [
    "# Steel Plate Defect prediction\n"
   ]
  },
  {
   "cell_type": "markdown",
   "metadata": {},
   "source": [
    "## Preparing train set"
   ]
  },
  {
   "cell_type": "code",
   "execution_count": 27,
   "metadata": {},
   "outputs": [],
   "source": [
    "import pandas as pd\n",
    "import numpy as np\n",
    "from sklearn import model_selection\n",
    "path = 'input/'\n",
    "\n",
    "TARGET = ['Pastry', 'Z_Scratch', 'K_Scatch', 'Stains', 'Dirtiness', 'Bumps', 'Other_Faults']\n",
    "\n",
    "if __name__ == \"__main__\":\n",
    "    # Training data is in the \"train.csv\" and \"faults.csv\" files\n",
    "    train_data = pd.read_csv(path + 'train.csv')\n",
    "    original_data = pd.read_csv(path + 'faulty-steel-plates/faults.csv')\n",
    "    train_data.drop('id', axis=1, inplace=True)\n",
    "    train_data = pd.concat([train_data, original_data], axis=0)\n",
    "\n",
    "    # drop mult label data points\n",
    "    train_data = train_data[train_data[TARGET].sum(axis=1) <= 1]\n",
    "    train_data['Outside_Global_Index'] = np.where(train_data['Outside_Global_Index']==0.7, 0.5, train_data['Outside_Global_Index'])\n",
    "\n",
    "    train_data['target'] = np.argmax(train_data[TARGET].values, axis=1) + 1\n",
    "    train_data.loc[train_data[TARGET].sum(axis=1) == 0, 'target'] = 0\n",
    "    train_data.drop(TARGET, axis=1, inplace=True)\n",
    "\n",
    "    # we create a new column called kfold and fill it with -1\n",
    "    train_data['kfold'] = -1\n",
    "\n",
    "    # the next step is to randomize the rows of the data\n",
    "    train_data = train_data.sample(frac=1).reset_index(drop=True)\n",
    "\n",
    "    # initiate the kfold class from model_selection module\n",
    "    kf = model_selection.StratifiedKFold(n_splits=5)\n",
    "\n",
    "    # fill the new kfold column\n",
    "    for f, (t_, v_) in enumerate(kf.split(X=train_data, y=train_data['target'].values)):\n",
    "        train_data.loc[v_, 'kfold'] = f\n",
    "    \n",
    "    # save the new csv with kfold column\n",
    "    train_data.to_csv(path + 'train_folds.csv', index=False)\n",
    "\n",
    "\n",
    "    \n",
    "\n",
    "    "
   ]
  }
 ],
 "metadata": {
  "kernelspec": {
   "display_name": "base",
   "language": "python",
   "name": "python3"
  },
  "language_info": {
   "codemirror_mode": {
    "name": "ipython",
    "version": 3
   },
   "file_extension": ".py",
   "mimetype": "text/x-python",
   "name": "python",
   "nbconvert_exporter": "python",
   "pygments_lexer": "ipython3",
   "version": "3.12.2"
  }
 },
 "nbformat": 4,
 "nbformat_minor": 2
}
